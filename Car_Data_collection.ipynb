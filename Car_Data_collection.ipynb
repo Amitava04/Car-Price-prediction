{
 "cells": [
  {
   "cell_type": "code",
   "execution_count": 1,
   "metadata": {},
   "outputs": [],
   "source": [
    "import pandas as pd\n",
    "import time\n",
    "import selenium\n",
    "import requests\n",
    "from selenium import webdriver\n",
    "from selenium.webdriver.common.keys import Keys\n",
    "from selenium.common.exceptions import NoSuchElementException"
   ]
  },
  {
   "cell_type": "code",
   "execution_count": 333,
   "metadata": {},
   "outputs": [],
   "source": [
    "chrome_path = r\"C:\\Users\\Hp\\Downloads\\chromedriver_win32 (1)\\chromedriver\"\n",
    "driver = webdriver.Chrome(chrome_path)\n",
    "driver.implicitly_wait(1)"
   ]
  },
  {
   "cell_type": "code",
   "execution_count": 334,
   "metadata": {},
   "outputs": [],
   "source": [
    "driver.get(\"https://www.cars24.com/\")"
   ]
  },
  {
   "cell_type": "code",
   "execution_count": 335,
   "metadata": {},
   "outputs": [],
   "source": [
    "driver.maximize_window()"
   ]
  },
  {
   "cell_type": "code",
   "execution_count": 336,
   "metadata": {},
   "outputs": [],
   "source": [
    "location=driver.find_element_by_xpath(\"//div[@class='_1K8Qe']/button\").click()"
   ]
  },
  {
   "cell_type": "code",
   "execution_count": 337,
   "metadata": {},
   "outputs": [
    {
     "name": "stdout",
     "output_type": "stream",
     "text": [
      "Enter the location Ahmedabad\n"
     ]
    }
   ],
   "source": [
    "location_input=driver.find_element_by_xpath(\"//div[@class='_6QaMX']/input\")\n",
    "location_input.send_keys(input(\"Enter the location \"))      \n",
    "location_input.send_keys(Keys.ENTER)"
   ]
  },
  {
   "cell_type": "code",
   "execution_count": 338,
   "metadata": {},
   "outputs": [],
   "source": [
    "place=driver.find_element_by_xpath(\"//ul[@class='_16Bvy']/li[1]\").click()\n"
   ]
  },
  {
   "cell_type": "code",
   "execution_count": 278,
   "metadata": {},
   "outputs": [],
   "source": [
    "#Change_location=driver.find_element_by_xpath(\"//p[@class='_1OR7d']\").click()"
   ]
  },
  {
   "cell_type": "code",
   "execution_count": 279,
   "metadata": {},
   "outputs": [
    {
     "name": "stdout",
     "output_type": "stream",
     "text": [
      "Enter the new location Pune\n"
     ]
    }
   ],
   "source": [
    "#location_input=driver.find_element_by_xpath(\"//div[@class='_6QaMX']/input\")\n",
    "#location_input.send_keys(input(\"Enter the new location \"))      \n",
    "#location_input.send_keys(Keys.ENTER)"
   ]
  },
  {
   "cell_type": "code",
   "execution_count": 280,
   "metadata": {},
   "outputs": [],
   "source": [
    "#location_input_click=driver.find_element_by_xpath(\"//ul[@class='_16Bvy']/li\").click()"
   ]
  },
  {
   "cell_type": "code",
   "execution_count": 339,
   "metadata": {},
   "outputs": [],
   "source": [
    "used_car=driver.find_element_by_xpath(\"//ul[@class='float-right _1yq3e']/li[2]/a\").click()"
   ]
  },
  {
   "cell_type": "code",
   "execution_count": 340,
   "metadata": {
    "scrolled": true
   },
   "outputs": [],
   "source": [
    "brand=[]\n",
    "year=[]\n",
    "km_driven=[]\n",
    "fuel=[]\n",
    "model=[]\n",
    "price=[]\n",
    "\n",
    "\n",
    "SCROLL_PAUSE_TIME = 20\n",
    "\n",
    "# Get scroll height\n",
    "last_height = driver.execute_script(\"return document.body.scrollHeight\")\n",
    "\n",
    "while True:\n",
    "    # Scroll down to bottom\n",
    "    driver.execute_script(\"window.scrollTo(0, document.body.scrollHeight);\")\n",
    "\n",
    "    # Wait to load page\n",
    "    time.sleep(SCROLL_PAUSE_TIME)\n",
    "\n",
    "    # Calculate new scroll height and compare with last scroll height\n",
    "    new_height = driver.execute_script(\"return document.body.scrollHeight\")\n",
    "    if new_height == last_height:\n",
    "        break\n",
    "    last_height = new_height\n",
    "\n",
    "Brand=driver.find_elements_by_xpath(\"//div[@class='_1l4fi']/div[1]/div/h2\")\n",
    "for j in Brand:\n",
    "    brand.append(j.text.split()[1])\n",
    "    model.append(j.text.split()[2])\n",
    "    year.append(j.text.split()[0])\n",
    "\n",
    "KM_driven=driver.find_elements_by_xpath(\"//ul[@class='bVR0c']/li[1]\")\n",
    "for m in KM_driven:\n",
    "    km_driven.append(m.text)\n",
    "\n",
    "Fuel=driver.find_elements_by_xpath(\"//ul[@class='bVR0c']/li[3]\")\n",
    "for m in Fuel:\n",
    "    fuel.append(m.text)\n",
    "\n",
    "Price=driver.find_elements_by_xpath(\"//div[@class='_19zc5']/div[2]/span\")\n",
    "for q in Price:\n",
    "    price.append(q.text)  \n",
    "    \n",
    "    \n"
   ]
  },
  {
   "cell_type": "code",
   "execution_count": 200,
   "metadata": {},
   "outputs": [],
   "source": [
    "car24_kolkata=pd.DataFrame({\"Brand\":brand,\"Model\":model,\"Year\":year,\"Fuel\":fuel,\"KM driven\":km_driven,\"Price\":price})"
   ]
  },
  {
   "cell_type": "code",
   "execution_count": 199,
   "metadata": {},
   "outputs": [],
   "source": [
    "car24_kolkata.to_csv(\"car24_kolkata.csv\")"
   ]
  },
  {
   "cell_type": "code",
   "execution_count": 206,
   "metadata": {},
   "outputs": [],
   "source": [
    "car24_delhi=pd.DataFrame({\"Brand\":brand,\"Model\":model,\"Year\":year,\"Fuel\":fuel,\"KM driven\":km_driven,\"Price\":price})"
   ]
  },
  {
   "cell_type": "code",
   "execution_count": 207,
   "metadata": {},
   "outputs": [],
   "source": [
    "car24_delhi.to_csv(\"car24_delhi.csv\")"
   ]
  },
  {
   "cell_type": "code",
   "execution_count": 222,
   "metadata": {
    "scrolled": true
   },
   "outputs": [
    {
     "data": {
      "text/html": [
       "<div>\n",
       "<style scoped>\n",
       "    .dataframe tbody tr th:only-of-type {\n",
       "        vertical-align: middle;\n",
       "    }\n",
       "\n",
       "    .dataframe tbody tr th {\n",
       "        vertical-align: top;\n",
       "    }\n",
       "\n",
       "    .dataframe thead th {\n",
       "        text-align: right;\n",
       "    }\n",
       "</style>\n",
       "<table border=\"1\" class=\"dataframe\">\n",
       "  <thead>\n",
       "    <tr style=\"text-align: right;\">\n",
       "      <th></th>\n",
       "      <th>Brand</th>\n",
       "      <th>Model</th>\n",
       "      <th>Year</th>\n",
       "      <th>Fuel</th>\n",
       "      <th>KM driven</th>\n",
       "      <th>Price</th>\n",
       "    </tr>\n",
       "  </thead>\n",
       "  <tbody>\n",
       "    <tr>\n",
       "      <th>0</th>\n",
       "      <td>Hyundai</td>\n",
       "      <td>VENUE</td>\n",
       "      <td>2021</td>\n",
       "      <td>Petrol</td>\n",
       "      <td>2,589 km</td>\n",
       "      <td>₹8,07,999</td>\n",
       "    </tr>\n",
       "    <tr>\n",
       "      <th>1</th>\n",
       "      <td>Maruti</td>\n",
       "      <td>Swift</td>\n",
       "      <td>2013</td>\n",
       "      <td>Diesel</td>\n",
       "      <td>11,019 km</td>\n",
       "      <td>₹3,78,499</td>\n",
       "    </tr>\n",
       "    <tr>\n",
       "      <th>2</th>\n",
       "      <td>Maruti</td>\n",
       "      <td>Alto</td>\n",
       "      <td>2013</td>\n",
       "      <td>Petrol</td>\n",
       "      <td>8,967 km</td>\n",
       "      <td>₹2,41,499</td>\n",
       "    </tr>\n",
       "    <tr>\n",
       "      <th>3</th>\n",
       "      <td>Maruti</td>\n",
       "      <td>Alto</td>\n",
       "      <td>2014</td>\n",
       "      <td>Petrol</td>\n",
       "      <td>12,535 km</td>\n",
       "      <td>₹3,00,099</td>\n",
       "    </tr>\n",
       "    <tr>\n",
       "      <th>4</th>\n",
       "      <td>Maruti</td>\n",
       "      <td>Swift</td>\n",
       "      <td>2012</td>\n",
       "      <td>Petrol</td>\n",
       "      <td>15,538 km</td>\n",
       "      <td>₹4,53,499</td>\n",
       "    </tr>\n",
       "    <tr>\n",
       "      <th>...</th>\n",
       "      <td>...</td>\n",
       "      <td>...</td>\n",
       "      <td>...</td>\n",
       "      <td>...</td>\n",
       "      <td>...</td>\n",
       "      <td>...</td>\n",
       "    </tr>\n",
       "    <tr>\n",
       "      <th>1466</th>\n",
       "      <td>Fiat</td>\n",
       "      <td>Grand</td>\n",
       "      <td>2014</td>\n",
       "      <td>Diesel</td>\n",
       "      <td>70,303 km</td>\n",
       "      <td>₹1,75,799</td>\n",
       "    </tr>\n",
       "    <tr>\n",
       "      <th>1467</th>\n",
       "      <td>Hyundai</td>\n",
       "      <td>Elite</td>\n",
       "      <td>2017</td>\n",
       "      <td>Petrol</td>\n",
       "      <td>50,141 km</td>\n",
       "      <td>₹5,54,899</td>\n",
       "    </tr>\n",
       "    <tr>\n",
       "      <th>1468</th>\n",
       "      <td>Maruti</td>\n",
       "      <td>Swift</td>\n",
       "      <td>2012</td>\n",
       "      <td>Diesel</td>\n",
       "      <td>1,19,502 km</td>\n",
       "      <td>₹3,24,899</td>\n",
       "    </tr>\n",
       "    <tr>\n",
       "      <th>1469</th>\n",
       "      <td>Maruti</td>\n",
       "      <td>Ertiga</td>\n",
       "      <td>2012</td>\n",
       "      <td>Diesel</td>\n",
       "      <td>1,20,093 km</td>\n",
       "      <td>₹3,74,099</td>\n",
       "    </tr>\n",
       "    <tr>\n",
       "      <th>1470</th>\n",
       "      <td>Hyundai</td>\n",
       "      <td>Verna</td>\n",
       "      <td>2012</td>\n",
       "      <td>Diesel</td>\n",
       "      <td>1,34,510 km</td>\n",
       "      <td>₹3,24,099</td>\n",
       "    </tr>\n",
       "  </tbody>\n",
       "</table>\n",
       "<p>1471 rows × 6 columns</p>\n",
       "</div>"
      ],
      "text/plain": [
       "        Brand   Model  Year    Fuel    KM driven      Price\n",
       "0     Hyundai   VENUE  2021  Petrol     2,589 km  ₹8,07,999\n",
       "1      Maruti   Swift  2013  Diesel    11,019 km  ₹3,78,499\n",
       "2      Maruti    Alto  2013  Petrol     8,967 km  ₹2,41,499\n",
       "3      Maruti    Alto  2014  Petrol    12,535 km  ₹3,00,099\n",
       "4      Maruti   Swift  2012  Petrol    15,538 km  ₹4,53,499\n",
       "...       ...     ...   ...     ...          ...        ...\n",
       "1466     Fiat   Grand  2014  Diesel    70,303 km  ₹1,75,799\n",
       "1467  Hyundai   Elite  2017  Petrol    50,141 km  ₹5,54,899\n",
       "1468   Maruti   Swift  2012  Diesel  1,19,502 km  ₹3,24,899\n",
       "1469   Maruti  Ertiga  2012  Diesel  1,20,093 km  ₹3,74,099\n",
       "1470  Hyundai   Verna  2012  Diesel  1,34,510 km  ₹3,24,099\n",
       "\n",
       "[1471 rows x 6 columns]"
      ]
     },
     "execution_count": 222,
     "metadata": {},
     "output_type": "execute_result"
    }
   ],
   "source": [
    "car24_noida=pd.DataFrame({\"Brand\":brand,\"Model\":model,\"Year\":year,\"Fuel\":fuel,\"KM driven\":km_driven,\"Price\":price})\n",
    "car24_noida"
   ]
  },
  {
   "cell_type": "code",
   "execution_count": 223,
   "metadata": {},
   "outputs": [],
   "source": [
    "car24_noida.to_csv(\"car24_noida.csv\")"
   ]
  },
  {
   "cell_type": "code",
   "execution_count": 274,
   "metadata": {},
   "outputs": [],
   "source": [
    "car24_mumbai=pd.DataFrame({\"Brand\":brand,\"Model\":model,\"Year\":year,\"Fuel\":fuel,\"KM driven\":km_driven,\"Price\":price})\n"
   ]
  },
  {
   "cell_type": "code",
   "execution_count": 276,
   "metadata": {},
   "outputs": [],
   "source": [
    "car24_mumbai.to_csv(\"car24_mumbai.csv\")"
   ]
  },
  {
   "cell_type": "code",
   "execution_count": 292,
   "metadata": {},
   "outputs": [],
   "source": [
    "car24_pune=pd.DataFrame({\"Brand\":brand,\"Model\":model,\"Year\":year,\"Fuel\":fuel,\"KM driven\":km_driven,\"Price\":price})\n"
   ]
  },
  {
   "cell_type": "code",
   "execution_count": 294,
   "metadata": {},
   "outputs": [],
   "source": [
    "car24_pune.to_csv(\"car24_pune.csv\")"
   ]
  },
  {
   "cell_type": "code",
   "execution_count": 303,
   "metadata": {},
   "outputs": [],
   "source": [
    "car24_bengaluru=pd.DataFrame({\"Brand\":brand,\"Model\":model,\"Year\":year,\"Fuel\":fuel,\"KM driven\":km_driven,\"Price\":price})\n"
   ]
  },
  {
   "cell_type": "code",
   "execution_count": 305,
   "metadata": {},
   "outputs": [],
   "source": [
    "car24_bengaluru.to_csv(\"car24_bengaluru.csv\")"
   ]
  },
  {
   "cell_type": "code",
   "execution_count": 319,
   "metadata": {},
   "outputs": [],
   "source": [
    "car24_hyderabad=pd.DataFrame({\"Brand\":brand,\"Model\":model,\"Year\":year,\"Fuel\":fuel,\"KM driven\":km_driven,\"Price\":price})\n"
   ]
  },
  {
   "cell_type": "code",
   "execution_count": 321,
   "metadata": {},
   "outputs": [],
   "source": [
    "car24_hyderabad.to_csv(\"car24_hyderabad.csv\")"
   ]
  },
  {
   "cell_type": "code",
   "execution_count": 330,
   "metadata": {},
   "outputs": [],
   "source": [
    "car24_chennai=pd.DataFrame({\"Brand\":brand,\"Model\":model,\"Year\":year,\"Fuel\":fuel,\"KM driven\":km_driven,\"Price\":price})"
   ]
  },
  {
   "cell_type": "code",
   "execution_count": 332,
   "metadata": {},
   "outputs": [],
   "source": [
    "car24_chennai.to_csv(\"car24_chennai.csv\")"
   ]
  },
  {
   "cell_type": "code",
   "execution_count": 341,
   "metadata": {},
   "outputs": [],
   "source": [
    "car24_ahmedabad=pd.DataFrame({\"Brand\":brand,\"Model\":model,\"Year\":year,\"Fuel\":fuel,\"KM driven\":km_driven,\"Price\":price})\n"
   ]
  },
  {
   "cell_type": "code",
   "execution_count": 343,
   "metadata": {},
   "outputs": [],
   "source": [
    "car24_ahmedabad.to_csv(\"car24_ahmedabad.csv\")"
   ]
  },
  {
   "cell_type": "code",
   "execution_count": 7,
   "metadata": {},
   "outputs": [],
   "source": [
    "df1=pd.read_csv('car24_ahmedabad.csv')\n",
    "df2=pd.read_csv('car24_chennai.csv')\n",
    "df3=pd.read_csv('car24_hyderabad.csv')\n",
    "df4=pd.read_csv('car24_bengaluru.csv')\n",
    "df5=pd.read_csv('car24_pune.csv')\n",
    "df6=pd.read_csv('car24_mumbai.csv')\n",
    "df7=pd.read_csv('car24_noida.csv')\n",
    "df8=pd.read_csv('car24_kolkata.csv')\n",
    "df9=pd.read_csv('car_dekho_Ahmedabad.csv')\n",
    "df10=pd.read_csv('car_dekho_delhi.csv')"
   ]
  },
  {
   "cell_type": "code",
   "execution_count": 18,
   "metadata": {},
   "outputs": [],
   "source": [
    "frame=[df1,df2,df3,df4,df5,df6,df7,df8,df9,df10]\n",
    "df=pd.concat(frame,ignore_index=True)"
   ]
  },
  {
   "cell_type": "code",
   "execution_count": 20,
   "metadata": {},
   "outputs": [],
   "source": [
    "df=df.reset_index(drop=True)"
   ]
  },
  {
   "cell_type": "code",
   "execution_count": 21,
   "metadata": {},
   "outputs": [],
   "source": [
    "df.to_csv(\"car_price.csv\")"
   ]
  },
  {
   "cell_type": "code",
   "execution_count": null,
   "metadata": {},
   "outputs": [],
   "source": []
  }
 ],
 "metadata": {
  "kernelspec": {
   "display_name": "Python 3",
   "language": "python",
   "name": "python3"
  },
  "language_info": {
   "codemirror_mode": {
    "name": "ipython",
    "version": 3
   },
   "file_extension": ".py",
   "mimetype": "text/x-python",
   "name": "python",
   "nbconvert_exporter": "python",
   "pygments_lexer": "ipython3",
   "version": "3.8.5"
  }
 },
 "nbformat": 4,
 "nbformat_minor": 4
}
